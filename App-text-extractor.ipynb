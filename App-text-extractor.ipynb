{
 "cells": [
  {
   "cell_type": "markdown",
   "id": "1c9b7da6-8742-45f0-99a2-2d926a9254dd",
   "metadata": {},
   "source": [
    "## Basic app to extract from a ChatMessage the song and artist a user wants to play"
   ]
  },
  {
   "cell_type": "code",
   "execution_count": null,
   "id": "aba2b595-b140-4a3f-b382-37d41ba09ed2",
   "metadata": {},
   "outputs": [],
   "source": []
  }
 ],
 "metadata": {
  "kernelspec": {
   "display_name": "Python 3 (ipykernel)",
   "language": "python",
   "name": "python3"
  },
  "language_info": {
   "codemirror_mode": {
    "name": "ipython",
    "version": 3
   },
   "file_extension": ".py",
   "mimetype": "text/x-python",
   "name": "python",
   "nbconvert_exporter": "python",
   "pygments_lexer": "ipython3",
   "version": "3.12.4"
  }
 },
 "nbformat": 4,
 "nbformat_minor": 5
}
