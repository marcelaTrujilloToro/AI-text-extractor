{
 "cells": [
  {
   "cell_type": "markdown",
   "id": "1c9b7da6-8742-45f0-99a2-2d926a9254dd",
   "metadata": {},
   "source": [
    "## Basic app to extract from a ChatMessage the song and artist a user wants to play"
   ]
  },
  {
   "cell_type": "code",
   "execution_count": 2,
   "id": "aba2b595-b140-4a3f-b382-37d41ba09ed2",
   "metadata": {},
   "outputs": [],
   "source": [
    "import os\n",
    "from dotenv import load_dotenv, find_dotenv\n",
    "_ = load_dotenv(find_dotenv())\n",
    "openai_api_key = os.environ[\"OPENAI_API_KEY\"]"
   ]
  },
  {
   "cell_type": "markdown",
   "id": "522dc74b-6020-4b21-b383-b9593313c6d2",
   "metadata": {},
   "source": [
    "Define your extraction goal (called \"the response schema\")"
   ]
  },
  {
   "cell_type": "code",
   "execution_count": 3,
   "id": "2ee935fe-173b-42ca-a61f-f046635dabd4",
   "metadata": {},
   "outputs": [],
   "source": [
    "from langchain.output_parsers import ResponseSchema"
   ]
  },
  {
   "cell_type": "code",
   "execution_count": 4,
   "id": "7e761285-0b81-4753-99f1-82a2f2b1e60a",
   "metadata": {},
   "outputs": [],
   "source": [
    "##Tell LangChain what we are going to extract from the text\n",
    "\n",
    "response_schemas = [\n",
    "    ResponseSchema(\n",
    "        name=\"singer\",\n",
    "        description=\"name of the singer\"\n",
    "    ),\n",
    "    ResponseSchema(\n",
    "        name=\"song\",\n",
    "        description=\"name of the song\"\n",
    "    )\n",
    "]"
   ]
  },
  {
   "cell_type": "markdown",
   "id": "95594c26-5209-4cfa-ad16-2e03a6345080",
   "metadata": {},
   "source": [
    "**Create the Output Parser that will extract the data**\n",
    "* To shape the response we receive from ChatGPT"
   ]
  },
  {
   "cell_type": "code",
   "execution_count": 6,
   "id": "61d7d959-c4ff-4487-9c4c-f4c4492ce209",
   "metadata": {},
   "outputs": [],
   "source": [
    "from langchain.output_parsers import StructuredOutputParser"
   ]
  },
  {
   "cell_type": "code",
   "execution_count": 7,
   "id": "49a88705-83a6-4bbd-83c3-dac36439a084",
   "metadata": {},
   "outputs": [],
   "source": [
    "output_parser = StructuredOutputParser.from_response_schemas(response_schemas)"
   ]
  },
  {
   "cell_type": "markdown",
   "id": "b403f107-c04b-4eb9-9b2a-bd7d1cea1ff9",
   "metadata": {},
   "source": [
    "**Create the format instructions**"
   ]
  },
  {
   "cell_type": "code",
   "execution_count": 10,
   "id": "b10298f1-53d6-4410-8810-43c3411a762b",
   "metadata": {},
   "outputs": [],
   "source": [
    "# Apply instructions to the output parser\n",
    "format_instructions = output_parser.get_format_instructions()"
   ]
  },
  {
   "cell_type": "code",
   "execution_count": 11,
   "id": "c81b7b9e-bde2-49fd-917c-4395625d91da",
   "metadata": {},
   "outputs": [
    {
     "name": "stdout",
     "output_type": "stream",
     "text": [
      "The output should be a markdown code snippet formatted in the following schema, including the leading and trailing \"```json\" and \"```\":\n",
      "\n",
      "```json\n",
      "{\n",
      "\t\"singer\": string  // name of the singer\n",
      "\t\"song\": string  // name of the song\n",
      "}\n",
      "```\n"
     ]
    }
   ],
   "source": [
    "print(format_instructions)"
   ]
  },
  {
   "cell_type": "markdown",
   "id": "cf663240-7e8d-4229-ad8a-fc74260bd2e8",
   "metadata": {},
   "source": [
    "**Create the ChatPromptTemplate**"
   ]
  },
  {
   "cell_type": "code",
   "execution_count": 14,
   "id": "03268171-4a2f-4f5e-930e-0265a9a6b0db",
   "metadata": {},
   "outputs": [],
   "source": [
    "from langchain.chat_models import ChatOpenAI\n",
    "from langchain.prompts import ChatPromptTemplate\n",
    "from langchain.prompts import HumanMessagePromptTemplate"
   ]
  },
  {
   "cell_type": "code",
   "execution_count": 15,
   "id": "a69d69ba-8802-4dc5-90a4-c6ae5a38f66f",
   "metadata": {},
   "outputs": [],
   "source": [
    "#instance of chat model \n",
    "chat_model = ChatOpenAI()"
   ]
  },
  {
   "cell_type": "code",
   "execution_count": 17,
   "id": "736ac3a1-8c03-43df-b826-1d06a7b6b34d",
   "metadata": {},
   "outputs": [],
   "source": [
    "template = \"\"\"\n",
    "Given a command from the user,\n",
    "extract the artist and song names\n",
    "{format_instructions}\n",
    "{user_prompt}\n",
    "\"\"\""
   ]
  },
  {
   "cell_type": "code",
   "execution_count": 19,
   "id": "a6dba0db-54f5-4962-bc7e-ecba0532d162",
   "metadata": {},
   "outputs": [],
   "source": [
    "# Create the prompt template that we are going to use\n",
    "prompt = ChatPromptTemplate(\n",
    "    messages=[\n",
    "        HumanMessagePromptTemplate.from_template(template)\n",
    "    ],\n",
    "    input_variables={\"user_prompt\"},\n",
    "    partial_variables={\"format_instructions\": format_instructions}\n",
    ")"
   ]
  },
  {
   "cell_type": "markdown",
   "id": "d7c778a5-6936-45ff-a157-de58bc97fa93",
   "metadata": {},
   "source": [
    "**Enter the chat message from the user**"
   ]
  },
  {
   "cell_type": "code",
   "execution_count": 20,
   "id": "bad93812-f2b1-4cf3-bb1a-540af472e80a",
   "metadata": {},
   "outputs": [],
   "source": [
    "user_message = prompt.format_prompt(\n",
    "    user_prompt=\"I like the song Coraline by Måneskin\"\n",
    ")"
   ]
  },
  {
   "cell_type": "code",
   "execution_count": 21,
   "id": "ed892827-2e94-4846-8cb9-723762d9d030",
   "metadata": {},
   "outputs": [],
   "source": [
    "user_chat_message = chat_model(user_message.to_messages())"
   ]
  },
  {
   "cell_type": "markdown",
   "id": "368a5791-ae18-4c39-9bfc-e144c684fa36",
   "metadata": {},
   "source": [
    "**Extract singer and song from the user message**"
   ]
  },
  {
   "cell_type": "code",
   "execution_count": 22,
   "id": "ccbd6f6d-ff31-4e3c-9e1c-fc4910d6b1a8",
   "metadata": {},
   "outputs": [],
   "source": [
    "extraction = output_parser.parse(user_chat_message.content)"
   ]
  },
  {
   "cell_type": "code",
   "execution_count": 23,
   "id": "8b430e01-e222-4b56-a96c-c266880e2f45",
   "metadata": {},
   "outputs": [
    {
     "name": "stdout",
     "output_type": "stream",
     "text": [
      "{'singer': 'Måneskin', 'song': 'Coraline'}\n"
     ]
    }
   ],
   "source": [
    "print(extraction)"
   ]
  },
  {
   "cell_type": "code",
   "execution_count": 24,
   "id": "56f957b3-b227-447c-8569-0651fde72131",
   "metadata": {},
   "outputs": [
    {
     "name": "stdout",
     "output_type": "stream",
     "text": [
      "<class 'dict'>\n"
     ]
    }
   ],
   "source": [
    "print(type(extraction))"
   ]
  }
 ],
 "metadata": {
  "kernelspec": {
   "display_name": "Python 3 (ipykernel)",
   "language": "python",
   "name": "python3"
  },
  "language_info": {
   "codemirror_mode": {
    "name": "ipython",
    "version": 3
   },
   "file_extension": ".py",
   "mimetype": "text/x-python",
   "name": "python",
   "nbconvert_exporter": "python",
   "pygments_lexer": "ipython3",
   "version": "3.12.4"
  }
 },
 "nbformat": 4,
 "nbformat_minor": 5
}
